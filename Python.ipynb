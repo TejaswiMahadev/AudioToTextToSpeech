{
  "nbformat": 4,
  "nbformat_minor": 0,
  "metadata": {
    "colab": {
      "provenance": []
    },
    "kernelspec": {
      "name": "python3",
      "display_name": "Python 3"
    },
    "language_info": {
      "name": "python"
    }
  },
  "cells": [
    {
      "cell_type": "markdown",
      "source": [
        "**Downloading, Transcribing, and Converting Audio**\n",
        "\n",
        "This script automates the process of downloading audio from a YouTube video, transcribing the audio into text using the Deepgram API, and then converting the transcribed text into speech using ElevenLabs' Text-to-Speech (TTS) API. It utilizes Python libraries like yt-dlp for downloading, Deepgram for transcription, and ElevenLabs for generating synthesized audio.\n",
        "Here's a breakdown of each step and function:\n",
        "\n",
        "1. **yt-dlp**: Download Audio from YouTube\n",
        "2. **Deepgram**: Transcribe Audio\n",
        "3. **ElevenLabs**: Text-to-Speech\n"
      ],
      "metadata": {
        "id": "zDab3ZI7L4ai"
      }
    },
    {
      "cell_type": "code",
      "source": [
        "!pip install pafy yt-dlp deepgram-sdk aiohttp\n"
      ],
      "metadata": {
        "colab": {
          "base_uri": "https://localhost:8080/"
        },
        "id": "5RQ-qHikZ05C",
        "outputId": "14ea5ddc-6b34-437b-9d7b-d3bd29b5007b"
      },
      "execution_count": 2,
      "outputs": [
        {
          "output_type": "stream",
          "name": "stdout",
          "text": [
            "Collecting pafy\n",
            "  Downloading pafy-0.5.5-py2.py3-none-any.whl.metadata (10 kB)\n",
            "Collecting yt-dlp\n",
            "  Downloading yt_dlp-2024.10.7-py3-none-any.whl.metadata (171 kB)\n",
            "\u001b[2K     \u001b[90m━━━━━━━━━━━━━━━━━━━━━━━━━━━━━━━━━━━━━━━━\u001b[0m \u001b[32m171.3/171.3 kB\u001b[0m \u001b[31m7.7 MB/s\u001b[0m eta \u001b[36m0:00:00\u001b[0m\n",
            "\u001b[?25hCollecting deepgram-sdk\n",
            "  Downloading deepgram_sdk-3.7.3-py3-none-any.whl.metadata (13 kB)\n",
            "Requirement already satisfied: aiohttp in /usr/local/lib/python3.10/dist-packages (3.10.9)\n",
            "Collecting brotli (from yt-dlp)\n",
            "  Downloading Brotli-1.1.0-cp310-cp310-manylinux_2_5_x86_64.manylinux1_x86_64.manylinux_2_12_x86_64.manylinux2010_x86_64.whl.metadata (5.5 kB)\n",
            "Requirement already satisfied: certifi in /usr/local/lib/python3.10/dist-packages (from yt-dlp) (2024.8.30)\n",
            "Collecting mutagen (from yt-dlp)\n",
            "  Downloading mutagen-1.47.0-py3-none-any.whl.metadata (1.7 kB)\n",
            "Collecting pycryptodomex (from yt-dlp)\n",
            "  Downloading pycryptodomex-3.21.0-cp36-abi3-manylinux_2_17_x86_64.manylinux2014_x86_64.whl.metadata (3.4 kB)\n",
            "Requirement already satisfied: requests<3,>=2.32.2 in /usr/local/lib/python3.10/dist-packages (from yt-dlp) (2.32.3)\n",
            "Requirement already satisfied: urllib3<3,>=1.26.17 in /usr/local/lib/python3.10/dist-packages (from yt-dlp) (2.2.3)\n",
            "Collecting websockets>=13.0 (from yt-dlp)\n",
            "  Downloading websockets-13.1-cp310-cp310-manylinux_2_5_x86_64.manylinux1_x86_64.manylinux_2_17_x86_64.manylinux2014_x86_64.whl.metadata (6.8 kB)\n",
            "Collecting httpx>=0.25.2 (from deepgram-sdk)\n",
            "  Downloading httpx-0.27.2-py3-none-any.whl.metadata (7.1 kB)\n",
            "Collecting dataclasses-json>=0.6.3 (from deepgram-sdk)\n",
            "  Downloading dataclasses_json-0.6.7-py3-none-any.whl.metadata (25 kB)\n",
            "Requirement already satisfied: typing-extensions>=4.9.0 in /usr/local/lib/python3.10/dist-packages (from deepgram-sdk) (4.12.2)\n",
            "Collecting aiofiles>=23.2.1 (from deepgram-sdk)\n",
            "  Downloading aiofiles-24.1.0-py3-none-any.whl.metadata (10 kB)\n",
            "Collecting aenum>=3.1.0 (from deepgram-sdk)\n",
            "  Downloading aenum-3.1.15-py3-none-any.whl.metadata (3.7 kB)\n",
            "Collecting deprecation>=2.1.0 (from deepgram-sdk)\n",
            "  Downloading deprecation-2.1.0-py2.py3-none-any.whl.metadata (4.6 kB)\n",
            "Requirement already satisfied: aiohappyeyeballs>=2.3.0 in /usr/local/lib/python3.10/dist-packages (from aiohttp) (2.4.3)\n",
            "Requirement already satisfied: aiosignal>=1.1.2 in /usr/local/lib/python3.10/dist-packages (from aiohttp) (1.3.1)\n",
            "Requirement already satisfied: attrs>=17.3.0 in /usr/local/lib/python3.10/dist-packages (from aiohttp) (24.2.0)\n",
            "Requirement already satisfied: frozenlist>=1.1.1 in /usr/local/lib/python3.10/dist-packages (from aiohttp) (1.4.1)\n",
            "Requirement already satisfied: multidict<7.0,>=4.5 in /usr/local/lib/python3.10/dist-packages (from aiohttp) (6.1.0)\n",
            "Requirement already satisfied: yarl<2.0,>=1.12.0 in /usr/local/lib/python3.10/dist-packages (from aiohttp) (1.13.1)\n",
            "Requirement already satisfied: async-timeout<5.0,>=4.0 in /usr/local/lib/python3.10/dist-packages (from aiohttp) (4.0.3)\n",
            "Collecting marshmallow<4.0.0,>=3.18.0 (from dataclasses-json>=0.6.3->deepgram-sdk)\n",
            "  Downloading marshmallow-3.22.0-py3-none-any.whl.metadata (7.2 kB)\n",
            "Collecting typing-inspect<1,>=0.4.0 (from dataclasses-json>=0.6.3->deepgram-sdk)\n",
            "  Downloading typing_inspect-0.9.0-py3-none-any.whl.metadata (1.5 kB)\n",
            "Requirement already satisfied: packaging in /usr/local/lib/python3.10/dist-packages (from deprecation>=2.1.0->deepgram-sdk) (24.1)\n",
            "Requirement already satisfied: anyio in /usr/local/lib/python3.10/dist-packages (from httpx>=0.25.2->deepgram-sdk) (3.7.1)\n",
            "Collecting httpcore==1.* (from httpx>=0.25.2->deepgram-sdk)\n",
            "  Downloading httpcore-1.0.6-py3-none-any.whl.metadata (21 kB)\n",
            "Requirement already satisfied: idna in /usr/local/lib/python3.10/dist-packages (from httpx>=0.25.2->deepgram-sdk) (3.10)\n",
            "Requirement already satisfied: sniffio in /usr/local/lib/python3.10/dist-packages (from httpx>=0.25.2->deepgram-sdk) (1.3.1)\n",
            "Collecting h11<0.15,>=0.13 (from httpcore==1.*->httpx>=0.25.2->deepgram-sdk)\n",
            "  Downloading h11-0.14.0-py3-none-any.whl.metadata (8.2 kB)\n",
            "Requirement already satisfied: charset-normalizer<4,>=2 in /usr/local/lib/python3.10/dist-packages (from requests<3,>=2.32.2->yt-dlp) (3.3.2)\n",
            "Collecting mypy-extensions>=0.3.0 (from typing-inspect<1,>=0.4.0->dataclasses-json>=0.6.3->deepgram-sdk)\n",
            "  Downloading mypy_extensions-1.0.0-py3-none-any.whl.metadata (1.1 kB)\n",
            "Requirement already satisfied: exceptiongroup in /usr/local/lib/python3.10/dist-packages (from anyio->httpx>=0.25.2->deepgram-sdk) (1.2.2)\n",
            "Downloading pafy-0.5.5-py2.py3-none-any.whl (35 kB)\n",
            "Downloading yt_dlp-2024.10.7-py3-none-any.whl (3.1 MB)\n",
            "\u001b[2K   \u001b[90m━━━━━━━━━━━━━━━━━━━━━━━━━━━━━━━━━━━━━━━━\u001b[0m \u001b[32m3.1/3.1 MB\u001b[0m \u001b[31m80.0 MB/s\u001b[0m eta \u001b[36m0:00:00\u001b[0m\n",
            "\u001b[?25hDownloading deepgram_sdk-3.7.3-py3-none-any.whl (130 kB)\n",
            "\u001b[2K   \u001b[90m━━━━━━━━━━━━━━━━━━━━━━━━━━━━━━━━━━━━━━━━\u001b[0m \u001b[32m130.3/130.3 kB\u001b[0m \u001b[31m10.0 MB/s\u001b[0m eta \u001b[36m0:00:00\u001b[0m\n",
            "\u001b[?25hDownloading aenum-3.1.15-py3-none-any.whl (137 kB)\n",
            "\u001b[2K   \u001b[90m━━━━━━━━━━━━━━━━━━━━━━━━━━━━━━━━━━━━━━━━\u001b[0m \u001b[32m137.6/137.6 kB\u001b[0m \u001b[31m12.2 MB/s\u001b[0m eta \u001b[36m0:00:00\u001b[0m\n",
            "\u001b[?25hDownloading aiofiles-24.1.0-py3-none-any.whl (15 kB)\n",
            "Downloading dataclasses_json-0.6.7-py3-none-any.whl (28 kB)\n",
            "Downloading deprecation-2.1.0-py2.py3-none-any.whl (11 kB)\n",
            "Downloading httpx-0.27.2-py3-none-any.whl (76 kB)\n",
            "\u001b[2K   \u001b[90m━━━━━━━━━━━━━━━━━━━━━━━━━━━━━━━━━━━━━━━━\u001b[0m \u001b[32m76.4/76.4 kB\u001b[0m \u001b[31m6.8 MB/s\u001b[0m eta \u001b[36m0:00:00\u001b[0m\n",
            "\u001b[?25hDownloading httpcore-1.0.6-py3-none-any.whl (78 kB)\n",
            "\u001b[2K   \u001b[90m━━━━━━━━━━━━━━━━━━━━━━━━━━━━━━━━━━━━━━━━\u001b[0m \u001b[32m78.0/78.0 kB\u001b[0m \u001b[31m6.6 MB/s\u001b[0m eta \u001b[36m0:00:00\u001b[0m\n",
            "\u001b[?25hDownloading websockets-13.1-cp310-cp310-manylinux_2_5_x86_64.manylinux1_x86_64.manylinux_2_17_x86_64.manylinux2014_x86_64.whl (164 kB)\n",
            "\u001b[2K   \u001b[90m━━━━━━━━━━━━━━━━━━━━━━━━━━━━━━━━━━━━━━━━\u001b[0m \u001b[32m164.1/164.1 kB\u001b[0m \u001b[31m13.7 MB/s\u001b[0m eta \u001b[36m0:00:00\u001b[0m\n",
            "\u001b[?25hDownloading Brotli-1.1.0-cp310-cp310-manylinux_2_5_x86_64.manylinux1_x86_64.manylinux_2_12_x86_64.manylinux2010_x86_64.whl (3.0 MB)\n",
            "\u001b[2K   \u001b[90m━━━━━━━━━━━━━━━━━━━━━━━━━━━━━━━━━━━━━━━━\u001b[0m \u001b[32m3.0/3.0 MB\u001b[0m \u001b[31m80.5 MB/s\u001b[0m eta \u001b[36m0:00:00\u001b[0m\n",
            "\u001b[?25hDownloading mutagen-1.47.0-py3-none-any.whl (194 kB)\n",
            "\u001b[2K   \u001b[90m━━━━━━━━━━━━━━━━━━━━━━━━━━━━━━━━━━━━━━━━\u001b[0m \u001b[32m194.4/194.4 kB\u001b[0m \u001b[31m15.1 MB/s\u001b[0m eta \u001b[36m0:00:00\u001b[0m\n",
            "\u001b[?25hDownloading pycryptodomex-3.21.0-cp36-abi3-manylinux_2_17_x86_64.manylinux2014_x86_64.whl (2.3 MB)\n",
            "\u001b[2K   \u001b[90m━━━━━━━━━━━━━━━━━━━━━━━━━━━━━━━━━━━━━━━━\u001b[0m \u001b[32m2.3/2.3 MB\u001b[0m \u001b[31m60.6 MB/s\u001b[0m eta \u001b[36m0:00:00\u001b[0m\n",
            "\u001b[?25hDownloading marshmallow-3.22.0-py3-none-any.whl (49 kB)\n",
            "\u001b[2K   \u001b[90m━━━━━━━━━━━━━━━━━━━━━━━━━━━━━━━━━━━━━━━━\u001b[0m \u001b[32m49.3/49.3 kB\u001b[0m \u001b[31m4.0 MB/s\u001b[0m eta \u001b[36m0:00:00\u001b[0m\n",
            "\u001b[?25hDownloading typing_inspect-0.9.0-py3-none-any.whl (8.8 kB)\n",
            "Downloading h11-0.14.0-py3-none-any.whl (58 kB)\n",
            "\u001b[2K   \u001b[90m━━━━━━━━━━━━━━━━━━━━━━━━━━━━━━━━━━━━━━━━\u001b[0m \u001b[32m58.3/58.3 kB\u001b[0m \u001b[31m4.0 MB/s\u001b[0m eta \u001b[36m0:00:00\u001b[0m\n",
            "\u001b[?25hDownloading mypy_extensions-1.0.0-py3-none-any.whl (4.7 kB)\n",
            "Installing collected packages: pafy, brotli, aenum, websockets, pycryptodomex, mypy-extensions, mutagen, marshmallow, h11, deprecation, aiofiles, yt-dlp, typing-inspect, httpcore, httpx, dataclasses-json, deepgram-sdk\n",
            "Successfully installed aenum-3.1.15 aiofiles-24.1.0 brotli-1.1.0 dataclasses-json-0.6.7 deepgram-sdk-3.7.3 deprecation-2.1.0 h11-0.14.0 httpcore-1.0.6 httpx-0.27.2 marshmallow-3.22.0 mutagen-1.47.0 mypy-extensions-1.0.0 pafy-0.5.5 pycryptodomex-3.21.0 typing-inspect-0.9.0 websockets-13.1 yt-dlp-2024.10.7\n"
          ]
        }
      ]
    },
    {
      "cell_type": "code",
      "source": [
        "!pip install elevenlabs\n"
      ],
      "metadata": {
        "colab": {
          "base_uri": "https://localhost:8080/"
        },
        "id": "PS5KIS-y6gZ8",
        "outputId": "c8fc3dc1-3ce0-411d-d5d0-60640438c080"
      },
      "execution_count": 4,
      "outputs": [
        {
          "output_type": "stream",
          "name": "stdout",
          "text": [
            "Collecting elevenlabs\n",
            "  Downloading elevenlabs-1.9.0-py3-none-any.whl.metadata (10 kB)\n",
            "Requirement already satisfied: httpx>=0.21.2 in /usr/local/lib/python3.10/dist-packages (from elevenlabs) (0.27.2)\n",
            "Requirement already satisfied: pydantic>=1.9.2 in /usr/local/lib/python3.10/dist-packages (from elevenlabs) (2.9.2)\n",
            "Requirement already satisfied: pydantic-core<3.0.0,>=2.18.2 in /usr/local/lib/python3.10/dist-packages (from elevenlabs) (2.23.4)\n",
            "Requirement already satisfied: requests>=2.20 in /usr/local/lib/python3.10/dist-packages (from elevenlabs) (2.32.3)\n",
            "Requirement already satisfied: typing_extensions>=4.0.0 in /usr/local/lib/python3.10/dist-packages (from elevenlabs) (4.12.2)\n",
            "Requirement already satisfied: websockets>=11.0 in /usr/local/lib/python3.10/dist-packages (from elevenlabs) (13.1)\n",
            "Requirement already satisfied: anyio in /usr/local/lib/python3.10/dist-packages (from httpx>=0.21.2->elevenlabs) (3.7.1)\n",
            "Requirement already satisfied: certifi in /usr/local/lib/python3.10/dist-packages (from httpx>=0.21.2->elevenlabs) (2024.8.30)\n",
            "Requirement already satisfied: httpcore==1.* in /usr/local/lib/python3.10/dist-packages (from httpx>=0.21.2->elevenlabs) (1.0.6)\n",
            "Requirement already satisfied: idna in /usr/local/lib/python3.10/dist-packages (from httpx>=0.21.2->elevenlabs) (3.10)\n",
            "Requirement already satisfied: sniffio in /usr/local/lib/python3.10/dist-packages (from httpx>=0.21.2->elevenlabs) (1.3.1)\n",
            "Requirement already satisfied: h11<0.15,>=0.13 in /usr/local/lib/python3.10/dist-packages (from httpcore==1.*->httpx>=0.21.2->elevenlabs) (0.14.0)\n",
            "Requirement already satisfied: annotated-types>=0.6.0 in /usr/local/lib/python3.10/dist-packages (from pydantic>=1.9.2->elevenlabs) (0.7.0)\n",
            "Requirement already satisfied: charset-normalizer<4,>=2 in /usr/local/lib/python3.10/dist-packages (from requests>=2.20->elevenlabs) (3.3.2)\n",
            "Requirement already satisfied: urllib3<3,>=1.21.1 in /usr/local/lib/python3.10/dist-packages (from requests>=2.20->elevenlabs) (2.2.3)\n",
            "Requirement already satisfied: exceptiongroup in /usr/local/lib/python3.10/dist-packages (from anyio->httpx>=0.21.2->elevenlabs) (1.2.2)\n",
            "Downloading elevenlabs-1.9.0-py3-none-any.whl (134 kB)\n",
            "\u001b[?25l   \u001b[90m━━━━━━━━━━━━━━━━━━━━━━━━━━━━━━━━━━━━━━━━\u001b[0m \u001b[32m0.0/134.8 kB\u001b[0m \u001b[31m?\u001b[0m eta \u001b[36m-:--:--\u001b[0m\r\u001b[2K   \u001b[90m━━━━━━━━━━━━━━━━━━━━━━━━━━━━━━━━━━━━━━━━\u001b[0m \u001b[32m134.8/134.8 kB\u001b[0m \u001b[31m9.3 MB/s\u001b[0m eta \u001b[36m0:00:00\u001b[0m\n",
            "\u001b[?25hInstalling collected packages: elevenlabs\n",
            "Successfully installed elevenlabs-1.9.0\n"
          ]
        }
      ]
    },
    {
      "cell_type": "code",
      "source": [
        "!pip install deepgram-sdk==2.12.0"
      ],
      "metadata": {
        "colab": {
          "base_uri": "https://localhost:8080/",
          "height": 460
        },
        "id": "ppG5knQrssQn",
        "outputId": "14f9a4a8-9c0a-46e8-b1c6-8b25ac940a04"
      },
      "execution_count": 6,
      "outputs": [
        {
          "output_type": "stream",
          "name": "stdout",
          "text": [
            "Collecting deepgram-sdk==2.12.0\n",
            "  Downloading deepgram_sdk-2.12.0-py3-none-any.whl.metadata (27 kB)\n",
            "Requirement already satisfied: aiohttp in /usr/local/lib/python3.10/dist-packages (from deepgram-sdk==2.12.0) (3.10.9)\n",
            "Requirement already satisfied: websockets in /usr/local/lib/python3.10/dist-packages (from deepgram-sdk==2.12.0) (13.1)\n",
            "Requirement already satisfied: aiohappyeyeballs>=2.3.0 in /usr/local/lib/python3.10/dist-packages (from aiohttp->deepgram-sdk==2.12.0) (2.4.3)\n",
            "Requirement already satisfied: aiosignal>=1.1.2 in /usr/local/lib/python3.10/dist-packages (from aiohttp->deepgram-sdk==2.12.0) (1.3.1)\n",
            "Requirement already satisfied: attrs>=17.3.0 in /usr/local/lib/python3.10/dist-packages (from aiohttp->deepgram-sdk==2.12.0) (24.2.0)\n",
            "Requirement already satisfied: frozenlist>=1.1.1 in /usr/local/lib/python3.10/dist-packages (from aiohttp->deepgram-sdk==2.12.0) (1.4.1)\n",
            "Requirement already satisfied: multidict<7.0,>=4.5 in /usr/local/lib/python3.10/dist-packages (from aiohttp->deepgram-sdk==2.12.0) (6.1.0)\n",
            "Requirement already satisfied: yarl<2.0,>=1.12.0 in /usr/local/lib/python3.10/dist-packages (from aiohttp->deepgram-sdk==2.12.0) (1.13.1)\n",
            "Requirement already satisfied: async-timeout<5.0,>=4.0 in /usr/local/lib/python3.10/dist-packages (from aiohttp->deepgram-sdk==2.12.0) (4.0.3)\n",
            "Requirement already satisfied: typing-extensions>=4.1.0 in /usr/local/lib/python3.10/dist-packages (from multidict<7.0,>=4.5->aiohttp->deepgram-sdk==2.12.0) (4.12.2)\n",
            "Requirement already satisfied: idna>=2.0 in /usr/local/lib/python3.10/dist-packages (from yarl<2.0,>=1.12.0->aiohttp->deepgram-sdk==2.12.0) (3.10)\n",
            "Downloading deepgram_sdk-2.12.0-py3-none-any.whl (25 kB)\n",
            "Installing collected packages: deepgram-sdk\n",
            "  Attempting uninstall: deepgram-sdk\n",
            "    Found existing installation: deepgram-sdk 3.7.3\n",
            "    Uninstalling deepgram-sdk-3.7.3:\n",
            "      Successfully uninstalled deepgram-sdk-3.7.3\n",
            "Successfully installed deepgram-sdk-2.12.0\n"
          ]
        },
        {
          "output_type": "display_data",
          "data": {
            "application/vnd.colab-display-data+json": {
              "pip_warning": {
                "packages": [
                  "deepgram"
                ]
              },
              "id": "01ed8f7f3a644d5b994cb30810ecb80f"
            }
          },
          "metadata": {}
        }
      ]
    },
    {
      "cell_type": "markdown",
      "source": [
        "**First let's try converting the audio generated into text using DeepGram API**\n",
        "\n",
        "**Deepgram: Transcribe Audio**\n",
        "\n",
        "After downloading the audio, the script transcribes the MP3 file into text using the Deepgram API, which is a deep learning-powered automatic speech recognition (ASR) service.\n",
        "\n",
        "**Function**: transcribe_audio_deepgram(audio_file, deepgram_api_key)\n",
        "\n",
        "**Input**:\n",
        "\n",
        "Path to the audio file.\n",
        "\n",
        "API key for Deepgram.\n",
        "\n",
        "**Process**:\n",
        "\n",
        "Opens the audio file in binary format and sends it to Deepgram’s API for transcription.\n",
        "\n",
        "Returns the transcribed text as a string.\n",
        "\n",
        "**Output**: Prints the transcription and returns it."
      ],
      "metadata": {
        "id": "vjgUTDmiMqeN"
      }
    },
    {
      "cell_type": "code",
      "source": [
        "import yt_dlp\n",
        "import requests\n",
        "import json\n",
        "from deepgram import Deepgram\n",
        "import asyncio\n",
        "import os\n",
        "import nest_asyncio\n",
        "\n",
        "# Allow nested event loops\n",
        "nest_asyncio.apply()\n",
        "\n",
        "# Function to download audio from YouTube using yt-dlp\n",
        "def download_audio_from_youtube(url, output_file='audio.mp3'):\n",
        "    ydl_opts = {\n",
        "        'format': 'bestaudio/best',\n",
        "        'outtmpl': output_file,\n",
        "        'postprocessors': [{\n",
        "            'key': 'FFmpegExtractAudio',\n",
        "            'preferredcodec': 'mp3',\n",
        "            'preferredquality': '192',\n",
        "        }],\n",
        "    }\n",
        "\n",
        "    with yt_dlp.YoutubeDL(ydl_opts) as ydl:\n",
        "        ydl.download([url])\n",
        "    print(f'Audio downloaded at: {output_file}')\n",
        "    return output_file\n",
        "\n",
        "# Function to transcribe audio using Deepgram API\n",
        "async def transcribe_audio_deepgram(audio_file, deepgram_api_key):\n",
        "    # Initialize Deepgram SDK\n",
        "    deepgram = Deepgram(deepgram_api_key)\n",
        "\n",
        "    # Open the audio file\n",
        "    with open(audio_file, 'rb') as audio:\n",
        "        # Sending the file for transcription\n",
        "        source = {'buffer': audio, 'mimetype': 'audio/mp3'}  # Change to mp3\n",
        "\n",
        "        response = await deepgram.transcription.prerecorded(source, {'punctuate': True})\n",
        "        transcript = response['results']['channels'][0]['alternatives'][0]['transcript']\n",
        "        print(f'Transcript: {transcript}')\n",
        "        return transcript\n",
        "\n",
        "# Main execution block\n",
        "async def main():\n",
        "    # Your API key for Deepgram\n",
        "    DEEPGRAM_API_KEY = 'API_KEY'\n",
        "\n",
        "    # YouTube URL to download audio from\n",
        "    YOUTUBE_URL = 'https://www.youtube.com/watch?v=oubBnzSg2jY'  # Example video URL\n",
        "\n",
        "    # Step 1: Download the audio from YouTube using yt-dlp\n",
        "    audio_file_path = download_audio_from_youtube(YOUTUBE_URL)\n",
        "\n",
        "    # Step 2: Use Deepgram to transcribe the audio\n",
        "    await transcribe_audio_deepgram(audio_file_path, DEEPGRAM_API_KEY)\n",
        "\n",
        "    # Optionally, delete the audio file after transcription\n",
        "    if os.path.exists(audio_file_path):\n",
        "        os.remove(audio_file_path)\n",
        "        print(\"Audio file deleted.\")\n",
        "\n",
        "# Call the main function\n",
        "asyncio.run(main())\n"
      ],
      "metadata": {
        "colab": {
          "base_uri": "https://localhost:8080/"
        },
        "id": "dLGOZd_Uwus0",
        "outputId": "329bba59-d739-4940-dc96-ffdee70a9ec0"
      },
      "execution_count": null,
      "outputs": [
        {
          "output_type": "stream",
          "name": "stdout",
          "text": [
            "[youtube] Extracting URL: https://www.youtube.com/watch?v=oubBnzSg2jY\n",
            "[youtube] oubBnzSg2jY: Downloading webpage\n",
            "[youtube] oubBnzSg2jY: Downloading ios player API JSON\n",
            "[youtube] oubBnzSg2jY: Downloading mweb player API JSON\n",
            "[youtube] oubBnzSg2jY: Downloading m3u8 information\n",
            "[info] oubBnzSg2jY: Downloading 1 format(s): 251\n",
            "[download] audio.mp3 has already been downloaded\n",
            "[download] 100% of  402.23KiB\n",
            "[ExtractAudio] Not converting audio audio.mp3; file is already in target format mp3\n",
            "Audio downloaded at: audio.mp3\n",
            "Transcript: Hi. You know who you call, leave a message. Maybe they'll call you back. Then again, maybe they won't. That's how life is. Point is. You've done what you can. Have a nice day.\n",
            "Audio file deleted.\n"
          ]
        }
      ]
    },
    {
      "cell_type": "code",
      "source": [
        "!pip install --upgrade elevenlabs\n"
      ],
      "metadata": {
        "id": "wCVNfUEd7V3C",
        "outputId": "5b8d4158-2d37-4d94-ec11-c7042483517e",
        "colab": {
          "base_uri": "https://localhost:8080/"
        }
      },
      "execution_count": 5,
      "outputs": [
        {
          "output_type": "stream",
          "name": "stdout",
          "text": [
            "Requirement already satisfied: elevenlabs in /usr/local/lib/python3.10/dist-packages (1.9.0)\n",
            "Requirement already satisfied: httpx>=0.21.2 in /usr/local/lib/python3.10/dist-packages (from elevenlabs) (0.27.2)\n",
            "Requirement already satisfied: pydantic>=1.9.2 in /usr/local/lib/python3.10/dist-packages (from elevenlabs) (2.9.2)\n",
            "Requirement already satisfied: pydantic-core<3.0.0,>=2.18.2 in /usr/local/lib/python3.10/dist-packages (from elevenlabs) (2.23.4)\n",
            "Requirement already satisfied: requests>=2.20 in /usr/local/lib/python3.10/dist-packages (from elevenlabs) (2.32.3)\n",
            "Requirement already satisfied: typing_extensions>=4.0.0 in /usr/local/lib/python3.10/dist-packages (from elevenlabs) (4.12.2)\n",
            "Requirement already satisfied: websockets>=11.0 in /usr/local/lib/python3.10/dist-packages (from elevenlabs) (13.1)\n",
            "Requirement already satisfied: anyio in /usr/local/lib/python3.10/dist-packages (from httpx>=0.21.2->elevenlabs) (3.7.1)\n",
            "Requirement already satisfied: certifi in /usr/local/lib/python3.10/dist-packages (from httpx>=0.21.2->elevenlabs) (2024.8.30)\n",
            "Requirement already satisfied: httpcore==1.* in /usr/local/lib/python3.10/dist-packages (from httpx>=0.21.2->elevenlabs) (1.0.6)\n",
            "Requirement already satisfied: idna in /usr/local/lib/python3.10/dist-packages (from httpx>=0.21.2->elevenlabs) (3.10)\n",
            "Requirement already satisfied: sniffio in /usr/local/lib/python3.10/dist-packages (from httpx>=0.21.2->elevenlabs) (1.3.1)\n",
            "Requirement already satisfied: h11<0.15,>=0.13 in /usr/local/lib/python3.10/dist-packages (from httpcore==1.*->httpx>=0.21.2->elevenlabs) (0.14.0)\n",
            "Requirement already satisfied: annotated-types>=0.6.0 in /usr/local/lib/python3.10/dist-packages (from pydantic>=1.9.2->elevenlabs) (0.7.0)\n",
            "Requirement already satisfied: charset-normalizer<4,>=2 in /usr/local/lib/python3.10/dist-packages (from requests>=2.20->elevenlabs) (3.3.2)\n",
            "Requirement already satisfied: urllib3<3,>=1.21.1 in /usr/local/lib/python3.10/dist-packages (from requests>=2.20->elevenlabs) (2.2.3)\n",
            "Requirement already satisfied: exceptiongroup in /usr/local/lib/python3.10/dist-packages (from anyio->httpx>=0.21.2->elevenlabs) (1.2.2)\n"
          ]
        }
      ]
    },
    {
      "cell_type": "markdown",
      "source": [
        "**We extend on the above output by adding elevenlabs to the mix**\n",
        "\n",
        "**ElevenLabs: Text-to-Speech**\n",
        "\n",
        "The transcribed text is then converted into speech using ElevenLabs’ Text-to-Speech (TTS) API, which provides highly realistic and customizable voice generation.\n",
        "\n",
        "**Function**: convert_text_to_audio_elevenlabs(transcript, output_audio)\n",
        "\n",
        "**Input**:\n",
        "\n",
        "The transcript (text to convert to speech).\n",
        "\n",
        "(Optional) output filename for the audio (default is 'output_audio.mp3').\n",
        "\n",
        "**Process**:\n",
        "\n",
        "Initializes an ElevenLabs client with an API key.\n",
        "\n",
        "Specifies custom voice settings (like stability and similarity boost) and a voice ID.\n",
        "\n",
        "Calls the TTS API to generate the speech and saves it as an MP3 file.\n",
        "\n",
        "**Output**: Saves the generated audio file locally."
      ],
      "metadata": {
        "id": "XF-rCK4xM3m-"
      }
    },
    {
      "cell_type": "code",
      "source": [
        "import yt_dlp\n",
        "import requests\n",
        "import json\n",
        "from deepgram import Deepgram\n",
        "import asyncio\n",
        "import os\n",
        "import nest_asyncio\n",
        "from elevenlabs.client import ElevenLabs\n",
        "\n",
        "# Allow nested event loops\n",
        "nest_asyncio.apply()\n",
        "\n",
        "\n",
        "# Function to download audio from YouTube using yt-dlp\n",
        "# Function to download audio from YouTube using yt-dlp\n",
        "def download_audio_from_youtube(url, output_file='audio.mp3'):\n",
        "    ydl_opts = {\n",
        "        'format': 'bestaudio/best',\n",
        "        'outtmpl': output_file,\n",
        "        'postprocessors': [{\n",
        "            'key': 'FFmpegExtractAudio',\n",
        "            'preferredcodec': 'mp3',\n",
        "            'preferredquality': '192',\n",
        "        }],\n",
        "        'verbose': True,  # Enable verbose logging\n",
        "    }\n",
        "\n",
        "    with yt_dlp.YoutubeDL(ydl_opts) as ydl:\n",
        "        ydl.download([url])\n",
        "\n",
        "    # Check if the audio file was created\n",
        "    if not os.path.exists(output_file):\n",
        "        raise FileNotFoundError(f\"Downloaded audio file '{output_file}' not found.\")\n",
        "\n",
        "    print(f'Audio downloaded at: {output_file}')\n",
        "    return output_file\n",
        "\n",
        "\n",
        "# Function to transcribe audio using Deepgram API\n",
        "async def transcribe_audio_deepgram(audio_file, deepgram_api_key):\n",
        "    # Initialize Deepgram SDK\n",
        "    deepgram = Deepgram(deepgram_api_key)\n",
        "\n",
        "    # Print the path to the audio file for debugging\n",
        "    print(f\"Attempting to open audio file: {audio_file}\")\n",
        "\n",
        "    # Open the audio file\n",
        "    with open(audio_file, 'rb') as audio:\n",
        "        # Sending the file for transcription\n",
        "        source = {'buffer': audio, 'mimetype': 'audio/mp3'}  # Change to mp3\n",
        "\n",
        "        response = await deepgram.transcription.prerecorded(source, {'punctuate': True})\n",
        "        transcript = response['results']['channels'][0]['alternatives'][0]['transcript']\n",
        "        print(f'Transcript: {transcript}')\n",
        "        return transcript\n",
        "\n",
        "\n",
        "# Function to convert text to audio using ElevenLabs TTS API\n",
        "def convert_text_to_audio_elevenlabs(transcript, output_audio='output_audio.mp3'):\n",
        "    # Set ElevenLabs API key\n",
        "    client = ElevenLabs( api_key=\"API_KEY\" )\n",
        "\n",
        "    # Define custom voice settings\n",
        "    voice = elevenlabs.Voice(\n",
        "        voice_id=\"ZQe5CZNOzWyzPSCn5a3c\",  # You can replace this with a valid voice ID from ElevenLabs\n",
        "        settings=elevenlabs.VoiceSettings(\n",
        "            stability=0,\n",
        "            similarity_boost=0.75\n",
        "        )\n",
        "    )\n",
        "\n",
        "    # Generate audio using ElevenLabs API\n",
        "    audio = client.generate(\n",
        "        text=transcript,\n",
        "        voice=voice\n",
        "    )\n",
        "\n",
        "    # Save the generated audio to an mp3 file\n",
        "    elevenlabs.save(audio, output_audio)\n",
        "    print(f\"Audio saved to {output_audio}\")\n",
        "\n",
        "# Main execution block\n",
        "async def main():\n",
        "    # Your API keys for Deepgram and ElevenLabs\n",
        "    DEEPGRAM_API_KEY = 'API_KEY'\n",
        "\n",
        "    # YouTube URL to download audio from\n",
        "    YOUTUBE_URL = 'https://www.youtube.com/watch?v=oubBnzSg2jY'  # Example video URL\n",
        "\n",
        "    # Step 1: Download the audio from YouTube using yt-dlp\n",
        "    audio_file_path = download_audio_from_youtube(YOUTUBE_URL)\n",
        "\n",
        "    # Step 2: Use Deepgram to transcribe the audio\n",
        "    transcript = await transcribe_audio_deepgram(audio_file_path, DEEPGRAM_API_KEY)\n",
        "\n",
        "    # Step 3: Convert the transcript to audio using ElevenLabs\n",
        "    convert_text_to_audio_elevenlabs(transcript)\n",
        "\n",
        "    # Optionally, delete the audio file after transcription\n",
        "    if os.path.exists(audio_file_path):\n",
        "        os.remove(audio_file_path)\n",
        "        print(\"Audio file deleted.\")\n",
        "\n",
        "# Call the main function\n",
        "asyncio.run(main())\n"
      ],
      "metadata": {
        "colab": {
          "base_uri": "https://localhost:8080/"
        },
        "id": "DwhN8Gfu5ug-",
        "outputId": "72eeb00c-9788-406f-fd7f-d0fb76fac4f7"
      },
      "execution_count": 8,
      "outputs": [
        {
          "output_type": "stream",
          "name": "stderr",
          "text": [
            "[debug] Encodings: locale UTF-8, fs utf-8, pref UTF-8, out UTF-8 (No ANSI), error UTF-8 (No ANSI), screen UTF-8 (No ANSI)\n",
            "[debug] yt-dlp version stable@2024.10.07 from yt-dlp/yt-dlp [1a176d874] (pip) API\n",
            "[debug] params: {'format': 'bestaudio/best', 'outtmpl': 'audio.mp3', 'postprocessors': [{'key': 'FFmpegExtractAudio', 'preferredcodec': 'mp3', 'preferredquality': '192'}], 'verbose': True, 'compat_opts': set(), 'http_headers': {'User-Agent': 'Mozilla/5.0 (Windows NT 10.0; Win64; x64) AppleWebKit/537.36 (KHTML, like Gecko) Chrome/92.0.4515.107 Safari/537.36', 'Accept': 'text/html,application/xhtml+xml,application/xml;q=0.9,*/*;q=0.8', 'Accept-Language': 'en-us,en;q=0.5', 'Sec-Fetch-Mode': 'navigate'}}\n",
            "[debug] Python 3.10.12 (CPython x86_64 64bit) - Linux-6.1.85+-x86_64-with-glibc2.35 (OpenSSL 3.0.2 15 Mar 2022, glibc 2.35)\n",
            "[debug] exe versions: ffmpeg 4.4.2 (setts), ffprobe 4.4.2\n",
            "[debug] Optional libraries: Cryptodome-3.21.0, brotli-1.1.0, certifi-2024.08.30, mutagen-1.47.0, requests-2.32.3, secretstorage-3.3.1, sqlite3-3.37.2, urllib3-2.2.3, websockets-13.1\n",
            "[debug] Proxy map: {'colab_language_server': '/usr/colab/bin/language_service'}\n",
            "[debug] Request Handlers: urllib, requests, websockets\n",
            "[debug] Loaded 1838 extractors\n"
          ]
        },
        {
          "output_type": "stream",
          "name": "stdout",
          "text": [
            "[youtube] Extracting URL: https://www.youtube.com/watch?v=oubBnzSg2jY\n",
            "[youtube] oubBnzSg2jY: Downloading webpage\n",
            "[youtube] oubBnzSg2jY: Downloading ios player API JSON\n",
            "[youtube] oubBnzSg2jY: Downloading mweb player API JSON\n"
          ]
        },
        {
          "output_type": "stream",
          "name": "stderr",
          "text": [
            "[debug] Loading youtube-nsig.2f238d39 from cache\n",
            "[debug] [youtube] Decrypted nsig hip10pa9Z65CKgF => 3HJXlHuUXzKYeQ\n",
            "[debug] Loading youtube-nsig.2f238d39 from cache\n",
            "[debug] [youtube] Decrypted nsig -0RjxRNqxsXMG0K => uckcVZMKPIy5Kg\n"
          ]
        },
        {
          "output_type": "stream",
          "name": "stdout",
          "text": [
            "[youtube] oubBnzSg2jY: Downloading m3u8 information\n"
          ]
        },
        {
          "output_type": "stream",
          "name": "stderr",
          "text": [
            "[debug] Sort order given by extractor: quality, res, fps, hdr:12, source, vcodec:vp9.2, channels, acodec, lang, proto\n",
            "[debug] Formats sorted by: hasvid, ie_pref, quality, res, fps, hdr:12(7), source, vcodec:vp9.2(10), channels, acodec, lang, proto, size, br, asr, vext, aext, hasaud, id\n"
          ]
        },
        {
          "output_type": "stream",
          "name": "stdout",
          "text": [
            "[info] oubBnzSg2jY: Downloading 1 format(s): 251\n"
          ]
        },
        {
          "output_type": "stream",
          "name": "stderr",
          "text": [
            "[debug] Invoking http downloader on \"https://rr5---sn-p5qs7nsr.googlevideo.com/videoplayback?expire=1728896385&ei=IYkMZ7PyOcS9kucPprnygQY&ip=34.86.97.63&id=o-ACWCSgICQIPpM_Yww4gXqtZU7HT3luyfKZe2yazBj4nj&itag=251&source=youtube&requiressl=yes&xpc=EgVo2aDSNQ%3D%3D&met=1728874785%2C&mh=d0&mm=31%2C26&mn=sn-p5qs7nsr%2Csn-ab5l6ndr&ms=au%2Conr&mv=m&mvi=5&pl=20&rms=au%2Cau&initcwndbps=1667500&vprv=1&svpuc=1&mime=audio%2Fwebm&rqh=1&gir=yes&clen=257148&dur=17.101&lmt=1695711452569717&mt=1728874366&fvip=1&keepalive=yes&fexp=51300761&c=IOS&txp=5311224&sparams=expire%2Cei%2Cip%2Cid%2Citag%2Csource%2Crequiressl%2Cxpc%2Cvprv%2Csvpuc%2Cmime%2Crqh%2Cgir%2Cclen%2Cdur%2Clmt&sig=AJfQdSswRQIhAOK_pS_ml0iiIt_kWn61STLd7-5QchHVXJT6qiJhJ9t_AiAEJPxuzTelJLq-28ass15EVM-g4ri4ZITFjPFHuu8PXA%3D%3D&lsparams=met%2Cmh%2Cmm%2Cmn%2Cms%2Cmv%2Cmvi%2Cpl%2Crms%2Cinitcwndbps&lsig=ACJ0pHgwRQIgfhVIENk8MZrMgi_RpSojumrV0Ov1k9z7cx3g2m1qKAECIQCi7fEhFvNHo5WbRdKLuvf3tQgYTS459xkVp8iQpEORwA%3D%3D\"\n"
          ]
        },
        {
          "output_type": "stream",
          "name": "stdout",
          "text": [
            "[download] audio.mp3 has already been downloaded\n",
            "[download] 100% of  402.23KiB\n"
          ]
        },
        {
          "output_type": "stream",
          "name": "stderr",
          "text": [
            "[debug] ffmpeg command line: ffprobe -show_streams file:audio.mp3\n"
          ]
        },
        {
          "output_type": "stream",
          "name": "stdout",
          "text": [
            "[ExtractAudio] Not converting audio audio.mp3; file is already in target format mp3\n",
            "Audio downloaded at: audio.mp3\n",
            "Attempting to open audio file: audio.mp3\n",
            "Transcript: Hi. You know who you call, leave a message. Maybe they'll call you back. Then again, maybe they won't. That's how life is. Point is. You've done what you can. Have a nice day.\n",
            "Audio saved to output_audio.mp3\n",
            "Audio file deleted.\n"
          ]
        }
      ]
    },
    {
      "cell_type": "code",
      "source": [],
      "metadata": {
        "id": "qMUDF6v86Jmp"
      },
      "execution_count": null,
      "outputs": []
    }
  ]
}
